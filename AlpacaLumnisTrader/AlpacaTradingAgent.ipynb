{
 "cells": [
  {
   "cell_type": "code",
   "execution_count": 29,
   "metadata": {},
   "outputs": [],
   "source": [
    "from KEYS import API_KEY_LUMNIS, API_KEY_BINANCE, SECRET_KEY_BINANCE\n",
    "from AlpacaLumnisTrader import AlpacaLumnisTrader\n",
    "from lumnisfactors import LumnisFactors\n",
    "from datetime import datetime\n",
    "from utils import COINS\n",
    "from tqdm import tqdm\n",
    "import pandas as pd\n",
    "import numpy as np\n"
   ]
  },
  {
   "cell_type": "code",
   "execution_count": 30,
   "metadata": {},
   "outputs": [],
   "source": [
    "factorName      = \"macd\"\n",
    "lumnis          = LumnisFactors(API_KEY_LUMNIS)"
   ]
  },
  {
   "cell_type": "code",
   "execution_count": 31,
   "metadata": {},
   "outputs": [],
   "source": [
    "df_hist         = lumnis.get_historical_data(factorName, \"binance\", \"ethusdt\",  \"min\", \"2023-03-11\", \"2023-03-12\")\n",
    "df_hist.index   = pd.to_datetime(df_hist.index, utc=True)"
   ]
  },
  {
   "cell_type": "code",
   "execution_count": null,
   "metadata": {},
   "outputs": [],
   "source": [
    "live_data       = lumnis.get_live_data(factor_name=factorName, exchange=\"binance\", asset=\"ethusdt\",  time_frame=\"min\", offset=2880)\n",
    "live_data.index = pd.to_datetime(live_data.index, utc=True)"
   ]
  },
  {
   "cell_type": "code",
   "execution_count": null,
   "metadata": {},
   "outputs": [],
   "source": [
    "factors         = ['rsi', 'vpin', 'order_imbalance', 'kyle_lambda_signed', 'amihuds_lambda', 'hasbroucks_lambda', 'ffd', 'macd', 'obv', 'donchian', 'accumulation_distribution', 'tsmom', 'bvc', 'hurst_exponent', 'anderson_darling_norm', 'anderson_darling_expon', 'shapiro_wilk','kolmogorov_smirnov', 'jarque_bera', 'agostino_k2']\n",
    "live_data       = lumnis.get_multifactor_live_data(factors, \"binance\", \"dogeusdt\",  \"min\", 2880)\n",
    "live_data.index = pd.to_datetime(live_data.index, utc=True)"
   ]
  },
  {
   "cell_type": "code",
   "execution_count": null,
   "metadata": {},
   "outputs": [],
   "source": [
    "tradingAgent                 = AlpacaLumnisTrader(API_KEY_BINANCE, SECRET_KEY_BINANCE, API_KEY_LUMNIS, COINS)"
   ]
  },
  {
   "cell_type": "code",
   "execution_count": null,
   "metadata": {},
   "outputs": [],
   "source": [
    "tradingAgent.get_open_position('LTC/USD')"
   ]
  },
  {
   "cell_type": "code",
   "execution_count": null,
   "metadata": {},
   "outputs": [],
   "source": [
    "tradingAgent.run()"
   ]
  }
 ],
 "metadata": {
  "kernelspec": {
   "display_name": "Python 3",
   "language": "python",
   "name": "python3"
  },
  "language_info": {
   "codemirror_mode": {
    "name": "ipython",
    "version": 3
   },
   "file_extension": ".py",
   "mimetype": "text/x-python",
   "name": "python",
   "nbconvert_exporter": "python",
   "pygments_lexer": "ipython3",
   "version": "3.7.16"
  }
 },
 "nbformat": 4,
 "nbformat_minor": 1
}
