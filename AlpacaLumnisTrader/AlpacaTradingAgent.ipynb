{
 "cells": [
  {
   "cell_type": "code",
   "execution_count": 5,
   "metadata": {},
   "outputs": [],
   "source": [
    "from KEYS import API_KEY_LUMNIS, API_KEY_BINANCE, SECRET_KEY_BINANCE\n",
    "from AlpacaLumnisTrader import AlpacaLumnisTrader\n",
    "from lumnisfactors import LumnisFactors\n",
    "from datetime import datetime\n",
    "from utils import COINS\n",
    "from tqdm import tqdm\n",
    "import pandas as pd\n",
    "import numpy as np\n"
   ]
  },
  {
   "cell_type": "code",
   "execution_count": 6,
   "metadata": {},
   "outputs": [],
   "source": [
    "\n",
    "lumnis          = LumnisFactors(API_KEY_LUMNIS)\n"
   ]
  },
  {
   "cell_type": "code",
   "execution_count": 7,
   "metadata": {},
   "outputs": [],
   "source": [
    "FACTORS         = ['rsi', 'vpin', 'order_imbalance', 'kyle_lambda_signed', 'amihuds_lambda', 'hasbroucks_lambda', 'ffd', 'macd', 'obv', 'donchian', \n",
    "                   'accumulation_distribution', 'tsmom', 'bvc', 'hurst_exponent', 'anderson_darling_norm', 'anderson_darling_expon', 'shapiro_wilk',\n",
    "                   'kolmogorov_smirnov', 'jarque_bera', 'agostino_k2']\n",
    "live_data       = lumnis.get_multifactor_live_data(FACTORS, \"binance\", \"dogeusdt\",  \"min\", 2880)\n",
    "live_data.index = pd.to_datetime(live_data.index, utc=True)"
   ]
  },
  {
   "cell_type": "code",
   "execution_count": 3,
   "metadata": {},
   "outputs": [
    {
     "name": "stdout",
     "output_type": "stream",
     "text": [
      "BTC/USD\n",
      "DOGE/USD\n",
      "MATIC/USD\n",
      "SOL/USD\n",
      "ETH/USD\n",
      "LTC/USD\n",
      "AVAX/USD\n"
     ]
    },
    {
     "name": "stderr",
     "output_type": "stream",
     "text": [
      "100%|██████████| 1/1 [00:02<00:00,  2.15s/it]\n",
      "100%|██████████| 1/1 [00:01<00:00,  1.86s/it]\n",
      "100%|██████████| 1/1 [00:01<00:00,  1.90s/it]\n",
      "100%|██████████| 1/1 [00:01<00:00,  1.92s/it]\n",
      "100%|██████████| 1/1 [00:01<00:00,  1.78s/it]\n",
      "100%|██████████| 1/1 [00:01<00:00,  1.83s/it]\n",
      "100%|██████████| 1/1 [00:02<00:00,  2.04s/it]\n"
     ]
    },
    {
     "name": "stdout",
     "output_type": "stream",
     "text": [
      "Warmup time:  0.4885265827178955 min\n",
      "Update time:  0.6662263512611389 min\n"
     ]
    }
   ],
   "source": [
    " \n",
    "tradingAgent                 = AlpacaLumnisTrader(API_KEY_BINANCE, SECRET_KEY_BINANCE, API_KEY_LUMNIS, FACTORS, COINS)\n"
   ]
  },
  {
   "cell_type": "code",
   "execution_count": 8,
   "metadata": {},
   "outputs": [
    {
     "data": {
      "text/plain": [
       "{   'asset_class': <AssetClass.CRYPTO: 'crypto'>,\n",
       "    'asset_id': UUID('0c077710-c350-4813-ad39-d6fe930a30ac'),\n",
       "    'avg_entry_price': '77.8315034517055719',\n",
       "    'change_today': '0.0599918378451911',\n",
       "    'cost_basis': '2901.90968777800162618',\n",
       "    'current_price': '77.92',\n",
       "    'exchange': <AssetExchange.FTXU: 'FTXU'>,\n",
       "    'lastday_price': '73.51',\n",
       "    'market_value': '2905.20923846688',\n",
       "    'qty': '37.284512814',\n",
       "    'side': <PositionSide.LONG: 'long'>,\n",
       "    'symbol': 'LTCUSD',\n",
       "    'unrealized_intraday_pl': '3.2995506888783743392516734',\n",
       "    'unrealized_intraday_plpc': '0.0011370273522898',\n",
       "    'unrealized_pl': '3.29955068887837382',\n",
       "    'unrealized_plpc': '0.0011370273522898'}"
      ]
     },
     "execution_count": 8,
     "metadata": {},
     "output_type": "execute_result"
    }
   ],
   "source": [
    "tradingAgent.get_open_position('LTC/USD')"
   ]
  },
  {
   "cell_type": "code",
   "execution_count": 4,
   "metadata": {},
   "outputs": [],
   "source": [
    "tradingAgent.run()"
   ]
  }
 ],
 "metadata": {
  "kernelspec": {
   "display_name": "Python 3",
   "language": "python",
   "name": "python3"
  },
  "language_info": {
   "codemirror_mode": {
    "name": "ipython",
    "version": 3
   },
   "file_extension": ".py",
   "mimetype": "text/x-python",
   "name": "python",
   "nbconvert_exporter": "python",
   "pygments_lexer": "ipython3",
   "version": "3.7.16"
  }
 },
 "nbformat": 4,
 "nbformat_minor": 1
}
